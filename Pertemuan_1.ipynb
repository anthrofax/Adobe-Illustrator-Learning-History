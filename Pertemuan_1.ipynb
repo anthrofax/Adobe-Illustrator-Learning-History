{
  "nbformat": 4,
  "nbformat_minor": 0,
  "metadata": {
    "colab": {
      "provenance": [],
      "include_colab_link": true
    },
    "kernelspec": {
      "name": "python3",
      "display_name": "Python 3"
    },
    "language_info": {
      "name": "python"
    }
  },
  "cells": [
    {
      "cell_type": "markdown",
      "metadata": {
        "id": "view-in-github",
        "colab_type": "text"
      },
      "source": [
        "<a href=\"https://colab.research.google.com/github/anthrofax/Adobe-Illustrator-Learning-History/blob/main/Pertemuan_1.ipynb\" target=\"_parent\"><img src=\"https://colab.research.google.com/assets/colab-badge.svg\" alt=\"Open In Colab\"/></a>"
      ]
    },
    {
      "cell_type": "code",
      "execution_count": null,
      "metadata": {
        "id": "X7_Q11a4lCkZ"
      },
      "outputs": [],
      "source": [
        "import numpy as np\n",
        "import pandas as pd"
      ]
    },
    {
      "cell_type": "code",
      "source": [
        "my_data = np.array([[2.7,1.1,1.9,6.3],[1.4,0.5,1.9,7.0],[1.2,0.5,1.9,9.7],[0.4,0.1,1.9,9.9],[3.1,0.5,2.0,0.1]])"
      ],
      "metadata": {
        "id": "ycGO9TpPn9C6"
      },
      "execution_count": null,
      "outputs": []
    },
    {
      "cell_type": "code",
      "source": [
        "column_names = ['sepal.length','sepal.width','petal.length','petal.width']"
      ],
      "metadata": {
        "id": "J8QYs0HxqUDi"
      },
      "execution_count": null,
      "outputs": []
    },
    {
      "cell_type": "code",
      "source": [
        "data_frame = pd.DataFrame(data=my_data, columns=column_names)\n",
        "print(data_frame)"
      ],
      "metadata": {
        "id": "EJMpsbbsqjd0",
        "colab": {
          "base_uri": "https://localhost:8080/"
        },
        "outputId": "3121bd67-a1ac-492a-fbd7-e459aab08507"
      },
      "execution_count": null,
      "outputs": [
        {
          "output_type": "stream",
          "name": "stdout",
          "text": [
            "   sepal.length  sepal.width  petal.length  petal.width\n",
            "0           2.7          1.1           1.9          6.3\n",
            "1           1.4          0.5           1.9          7.0\n",
            "2           1.2          0.5           1.9          9.7\n",
            "3           0.4          0.1           1.9          9.9\n",
            "4           3.1          0.5           2.0          0.1\n"
          ]
        }
      ]
    },
    {
      "cell_type": "code",
      "source": [
        "data_frame[\"species\"] = 'Afridho Ikhsan'"
      ],
      "metadata": {
        "id": "IcnrRAfLrh66"
      },
      "execution_count": null,
      "outputs": []
    },
    {
      "cell_type": "code",
      "source": [
        "print(data_frame)"
      ],
      "metadata": {
        "colab": {
          "base_uri": "https://localhost:8080/"
        },
        "id": "pw-hofNCr8KB",
        "outputId": "04326bdb-554f-4b2e-8da4-04c9c59dcb43"
      },
      "execution_count": null,
      "outputs": [
        {
          "output_type": "stream",
          "name": "stdout",
          "text": [
            "   sepal.length  sepal.width  petal.length  petal.width         species\n",
            "0           2.7          1.1           1.9          6.3  Afridho Ikhsan\n",
            "1           1.4          0.5           1.9          7.0  Afridho Ikhsan\n",
            "2           1.2          0.5           1.9          9.7  Afridho Ikhsan\n",
            "3           0.4          0.1           1.9          9.9  Afridho Ikhsan\n",
            "4           3.1          0.5           2.0          0.1  Afridho Ikhsan\n"
          ]
        }
      ]
    },
    {
      "cell_type": "code",
      "source": [
        "print(\"rows 0, 1, and 2 : \")\n",
        "print(data_frame.head(3), '\\n')\n",
        "\n",
        "print(\"row 3 : \")\n",
        "print(data_frame.iloc[[3]], '\\n')\n",
        "\n",
        "print(\"row 1, 2, and 3 : \")\n",
        "print(data_frame[1:4],'\\n')\n",
        "\n",
        "print(\"Column 'species' : \")\n",
        "print(data_frame['species'])"
      ],
      "metadata": {
        "colab": {
          "base_uri": "https://localhost:8080/"
        },
        "id": "Z1TGLoNqssqn",
        "outputId": "efe08233-b4f6-44ae-8063-1cbefaa2a985"
      },
      "execution_count": null,
      "outputs": [
        {
          "output_type": "stream",
          "name": "stdout",
          "text": [
            "rows 0, 1, and 2 : \n",
            "   sepal.length  sepal.width  petal.length  petal.width         species\n",
            "0           2.7          1.1           1.9          6.3  Afridho Ikhsan\n",
            "1           1.4          0.5           1.9          7.0  Afridho Ikhsan\n",
            "2           1.2          0.5           1.9          9.7  Afridho Ikhsan \n",
            "\n",
            "row 3 : \n",
            "   sepal.length  sepal.width  petal.length  petal.width         species\n",
            "3           0.4          0.1           1.9          9.9  Afridho Ikhsan \n",
            "\n",
            "row 1, 2, and 3 : \n",
            "   sepal.length  sepal.width  petal.length  petal.width         species\n",
            "1           1.4          0.5           1.9          7.0  Afridho Ikhsan\n",
            "2           1.2          0.5           1.9          9.7  Afridho Ikhsan\n",
            "3           0.4          0.1           1.9          9.9  Afridho Ikhsan \n",
            "\n",
            "Column 'species' : \n",
            "0    Afridho Ikhsan\n",
            "1    Afridho Ikhsan\n",
            "2    Afridho Ikhsan\n",
            "3    Afridho Ikhsan\n",
            "4    Afridho Ikhsan\n",
            "Name: species, dtype: object\n"
          ]
        }
      ]
    },
    {
      "cell_type": "code",
      "source": [
        "my_data2 = np.array([[27,11,19,63],[14,5,19,70],[12,5,19,97]])"
      ],
      "metadata": {
        "id": "JrhS7kFNvbEX"
      },
      "execution_count": null,
      "outputs": []
    },
    {
      "cell_type": "code",
      "source": [
        "column_names2 = ['Zahra','Lily','Dito','Naufal']"
      ],
      "metadata": {
        "id": "bnczdVODwF7o"
      },
      "execution_count": null,
      "outputs": []
    },
    {
      "cell_type": "code",
      "source": [
        "data_frame_panda = pd.DataFrame(data=my_data2, columns=column_names2)\n",
        "print(data_frame_panda)"
      ],
      "metadata": {
        "colab": {
          "base_uri": "https://localhost:8080/"
        },
        "id": "vxcYCmbEwql9",
        "outputId": "a890e9ed-faf8-48b3-d601-72184e6102ea"
      },
      "execution_count": null,
      "outputs": [
        {
          "output_type": "stream",
          "name": "stdout",
          "text": [
            "   Zahra  Lily  Dito  Naufal\n",
            "0     27    11    19      63\n",
            "1     14     5    19      70\n",
            "2     12     5    19      97\n"
          ]
        }
      ]
    },
    {
      "cell_type": "code",
      "source": [
        "data_frame_panda[\"Janet\"] = 3"
      ],
      "metadata": {
        "id": "rWy_eMwrw7yx"
      },
      "execution_count": null,
      "outputs": []
    },
    {
      "cell_type": "code",
      "source": [
        "print(data_frame_panda)"
      ],
      "metadata": {
        "id": "7IV6GgrBxknW",
        "outputId": "db88a59b-a820-4d22-ddc6-3828637ce45e",
        "colab": {
          "base_uri": "https://localhost:8080/"
        }
      },
      "execution_count": null,
      "outputs": [
        {
          "output_type": "stream",
          "name": "stdout",
          "text": [
            "   Zahra  Lily  Dito  Naufal  Janet\n",
            "0     27    11    19      63      3\n",
            "1     14     5    19      70      3\n",
            "2     12     5    19      97      3\n"
          ]
        }
      ]
    }
  ]
}